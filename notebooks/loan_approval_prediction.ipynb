{
 "cells": [
  {
   "cell_type": "markdown",
   "metadata": {},
   "source": [
    "# Loan Approval Prediction"
   ]
  },
  {
   "cell_type": "markdown",
   "metadata": {},
   "source": [
    "1. Init and import dependencies"
   ]
  },
  {
   "cell_type": "code",
   "execution_count": 1,
   "metadata": {},
   "outputs": [],
   "source": [
    "import random\n",
    "from pyspark.sql import SparkSession\n",
    "from pyspark.ml.feature import (\n",
    "    StandardScaler,\n",
    "    VectorAssembler,\n",
    "    StringIndexer,\n",
    "    OneHotEncoder,\n",
    ")\n",
    "from pyspark.ml.classification import RandomForestClassifier\n",
    "from pyspark.ml.evaluation import BinaryClassificationEvaluator\n",
    "from pyspark.ml import Pipeline\n",
    "from pyspark.sql.types import (\n",
    "    StructType,\n",
    "    StructField,\n",
    "    IntegerType,\n",
    "    FloatType,\n",
    "    StringType,\n",
    ")\n",
    "\n",
    "from lib.data.kaggle import unzip_file\n",
    "\n",
    "from src.definitions import EXTERNAL_DATA_FOLDER"
   ]
  },
  {
   "cell_type": "code",
   "execution_count": 2,
   "metadata": {},
   "outputs": [],
   "source": [
    "random_seed = 42\n",
    "\n",
    "random.seed(random_seed)"
   ]
  },
  {
   "cell_type": "markdown",
   "metadata": {},
   "source": [
    "2. Unzip dataset"
   ]
  },
  {
   "cell_type": "code",
   "execution_count": 3,
   "metadata": {},
   "outputs": [],
   "source": [
    "ds_path = unzip_file(EXTERNAL_DATA_FOLDER / \"playground-series-s4e10.zip\")"
   ]
  },
  {
   "cell_type": "markdown",
   "metadata": {},
   "source": [
    "3. Create Spark Session"
   ]
  },
  {
   "cell_type": "code",
   "execution_count": 4,
   "metadata": {},
   "outputs": [
    {
     "name": "stderr",
     "output_type": "stream",
     "text": [
      "24/12/28 21:13:35 WARN Utils: Your hostname, Alexanders-MacBook-Pro.local resolves to a loopback address: 127.0.0.1; using 192.168.0.145 instead (on interface en0)\n",
      "24/12/28 21:13:35 WARN Utils: Set SPARK_LOCAL_IP if you need to bind to another address\n",
      "Setting default log level to \"WARN\".\n",
      "To adjust logging level use sc.setLogLevel(newLevel). For SparkR, use setLogLevel(newLevel).\n",
      "24/12/28 21:13:36 WARN NativeCodeLoader: Unable to load native-hadoop library for your platform... using builtin-java classes where applicable\n"
     ]
    }
   ],
   "source": [
    "spark = SparkSession.builder.appName(\"LoanApprovalPrediction\").getOrCreate()"
   ]
  },
  {
   "cell_type": "markdown",
   "metadata": {},
   "source": [
    "4. Read dataset"
   ]
  },
  {
   "cell_type": "code",
   "execution_count": 5,
   "metadata": {},
   "outputs": [
    {
     "name": "stdout",
     "output_type": "stream",
     "text": [
      "+---+----------+-------------+---------------------+-----------------+-----------------+----------+---------+-------------+-------------------+-------------------------+--------------------------+-----------+\n",
      "| id|person_age|person_income|person_home_ownership|person_emp_length|      loan_intent|loan_grade|loan_amnt|loan_int_rate|loan_percent_income|cb_person_default_on_file|cb_person_cred_hist_length|loan_status|\n",
      "+---+----------+-------------+---------------------+-----------------+-----------------+----------+---------+-------------+-------------------+-------------------------+--------------------------+-----------+\n",
      "|  0|        37|        35000|                 RENT|              0.0|        EDUCATION|         B|     6000|        11.49|               0.17|                        N|                        14|          0|\n",
      "|  1|        22|        56000|                  OWN|              6.0|          MEDICAL|         C|     4000|        13.35|               0.07|                        N|                         2|          0|\n",
      "|  2|        29|        28800|                  OWN|              8.0|         PERSONAL|         A|     6000|          8.9|               0.21|                        N|                        10|          0|\n",
      "|  3|        30|        70000|                 RENT|             14.0|          VENTURE|         B|    12000|        11.11|               0.17|                        N|                         5|          0|\n",
      "|  4|        22|        60000|                 RENT|              2.0|          MEDICAL|         A|     6000|         6.92|                0.1|                        N|                         3|          0|\n",
      "|  5|        27|        45000|                 RENT|              2.0|          VENTURE|         A|     9000|         8.94|                0.2|                        N|                         5|          0|\n",
      "|  6|        25|        45000|             MORTGAGE|              9.0|        EDUCATION|         A|    12000|         6.54|               0.27|                        N|                         3|          0|\n",
      "|  7|        21|        20000|                 RENT|              0.0|         PERSONAL|         C|     2500|        13.49|               0.13|                        Y|                         3|          0|\n",
      "|  8|        37|        69600|                 RENT|             11.0|        EDUCATION|         D|     5000|        14.84|               0.07|                        Y|                        11|          0|\n",
      "|  9|        35|       110000|             MORTGAGE|              0.0|DEBTCONSOLIDATION|         C|    15000|        12.98|               0.14|                        Y|                         6|          0|\n",
      "| 10|        30|        78000|             MORTGAGE|              5.0|          VENTURE|         B|    12800|        10.59|               0.17|                        N|                         5|          0|\n",
      "| 11|        22|        33000|                 RENT|              6.0|         PERSONAL|         B|    10000|        11.12|                0.3|                        N|                         2|          1|\n",
      "| 12|        25|        33000|             MORTGAGE|              1.0|        EDUCATION|         B|     4000|        10.75|               0.12|                        N|                         3|          0|\n",
      "| 13|        31|        70000|             MORTGAGE|              2.0|DEBTCONSOLIDATION|         B|    16000|        11.14|               0.23|                        N|                         9|          0|\n",
      "| 14|        27|       100000|                 RENT|              1.0|  HOMEIMPROVEMENT|         C|     5000|        13.57|               0.05|                        Y|                         7|          0|\n",
      "| 15|        29|        33000|                  OWN|              8.0|          MEDICAL|         A|     7300|          8.9|               0.23|                        N|                         8|          0|\n",
      "| 16|        26|        80000|                 RENT|              2.0|  HOMEIMPROVEMENT|         D|    17000|        14.11|               0.21|                        Y|                         3|          0|\n",
      "| 17|        29|        60000|                  OWN|             13.0|          MEDICAL|         A|    15000|         6.62|               0.25|                        N|                         9|          0|\n",
      "| 18|        22|        84000|             MORTGAGE|              6.0|DEBTCONSOLIDATION|         B|     5950|        11.12|               0.07|                        N|                         4|          0|\n",
      "| 19|        27|        65000|             MORTGAGE|              3.0|DEBTCONSOLIDATION|         C|     4800|        12.73|               0.07|                        Y|                         8|          0|\n",
      "+---+----------+-------------+---------------------+-----------------+-----------------+----------+---------+-------------+-------------------+-------------------------+--------------------------+-----------+\n",
      "only showing top 20 rows\n",
      "\n"
     ]
    }
   ],
   "source": [
    "cols_schema = [\n",
    "    StructField(\"id\", IntegerType(), True),\n",
    "    StructField(\"person_age\", IntegerType(), True),\n",
    "    StructField(\"person_income\", IntegerType(), True),\n",
    "    StructField(\"person_home_ownership\", StringType(), True),\n",
    "    StructField(\"person_emp_length\", FloatType(), True),\n",
    "    StructField(\"loan_intent\", StringType(), True),\n",
    "    StructField(\"loan_grade\", StringType(), True),\n",
    "    StructField(\"loan_amnt\", IntegerType(), True),\n",
    "    StructField(\"loan_int_rate\", FloatType(), True),\n",
    "    StructField(\"loan_percent_income\", FloatType(), True),\n",
    "    StructField(\"cb_person_default_on_file\", StringType(), True),\n",
    "    StructField(\"cb_person_cred_hist_length\", IntegerType(), True),\n",
    "    StructField(\"loan_status\", IntegerType(), True),\n",
    "]\n",
    "\n",
    "schema = StructType(cols_schema)\n",
    "\n",
    "df = spark.read.csv(\n",
    "    str(ds_path / \"train.csv\"),\n",
    "    header=True,\n",
    "    schema=schema,\n",
    ")\n",
    "\n",
    "df.show()"
   ]
  },
  {
   "cell_type": "markdown",
   "metadata": {},
   "source": [
    "5. Preprocess data"
   ]
  },
  {
   "cell_type": "code",
   "execution_count": 6,
   "metadata": {},
   "outputs": [],
   "source": [
    "stages = []\n",
    "\n",
    "enum_cols = [\n",
    "    \"person_home_ownership\",\n",
    "    \"loan_intent\",\n",
    "    \"loan_grade\",\n",
    "    \"cb_person_default_on_file\",\n",
    "]\n",
    "\n",
    "index_cols = [it + \"_index\" for it in enum_cols]\n",
    "one_hot_cols = [it + \"_vec\" for it in enum_cols]\n",
    "\n",
    "for i in range(len(enum_cols)):\n",
    "    stages.append(StringIndexer(inputCol=enum_cols[i], outputCol=index_cols[i]))\n",
    "\n",
    "stages.append(OneHotEncoder(inputCols=index_cols, outputCols=one_hot_cols))\n",
    "\n",
    "features = [\n",
    "    \"person_age\",\n",
    "    \"person_income\",\n",
    "    \"person_home_ownership_vec\",\n",
    "    \"person_emp_length\",\n",
    "    \"loan_intent_vec\",\n",
    "    \"loan_grade_vec\",\n",
    "    \"loan_amnt\",\n",
    "    \"loan_int_rate\",\n",
    "    \"loan_percent_income\",\n",
    "    \"cb_person_default_on_file_vec\",\n",
    "    \"cb_person_cred_hist_length\",\n",
    "]\n",
    "\n",
    "stages.append(VectorAssembler(inputCols=features, outputCol=\"features\"))\n",
    "stages.append(StandardScaler(inputCol=\"features\", outputCol=\"features_scaled\"))\n",
    "\n",
    "pipeline = Pipeline(stages=stages)\n",
    "preprocess = pipeline.fit(df)\n",
    "df = preprocess.transform(df)"
   ]
  },
  {
   "cell_type": "markdown",
   "metadata": {},
   "source": [
    "5. Split dataset"
   ]
  },
  {
   "cell_type": "code",
   "execution_count": 7,
   "metadata": {},
   "outputs": [],
   "source": [
    "train_df, test_df = df.randomSplit([0.7, 0.3], seed=random_seed)"
   ]
  },
  {
   "cell_type": "markdown",
   "metadata": {},
   "source": [
    "6. Train model"
   ]
  },
  {
   "cell_type": "code",
   "execution_count": 8,
   "metadata": {},
   "outputs": [],
   "source": [
    "rfc = RandomForestClassifier(featuresCol=\"features_scaled\", labelCol=\"loan_status\", seed=random_seed)\n",
    "model = rfc.fit(train_df)"
   ]
  },
  {
   "cell_type": "markdown",
   "metadata": {},
   "source": [
    "7. Evaluate model"
   ]
  },
  {
   "cell_type": "code",
   "execution_count": 9,
   "metadata": {},
   "outputs": [
    {
     "name": "stdout",
     "output_type": "stream",
     "text": [
      "Area under ROC curve: 0.9063583846454847\n"
     ]
    }
   ],
   "source": [
    "predictions = model.transform(test_df)\n",
    "evaluator = BinaryClassificationEvaluator(labelCol=\"loan_status\")\n",
    "area_under_curve = evaluator.evaluate(predictions)\n",
    "\n",
    "print(f\"Area under ROC curve: {area_under_curve}\")"
   ]
  }
 ],
 "metadata": {
  "kernelspec": {
   "display_name": ".venv",
   "language": "python",
   "name": "python3"
  },
  "language_info": {
   "codemirror_mode": {
    "name": "ipython",
    "version": 3
   },
   "file_extension": ".py",
   "mimetype": "text/x-python",
   "name": "python",
   "nbconvert_exporter": "python",
   "pygments_lexer": "ipython3",
   "version": "3.11.10"
  }
 },
 "nbformat": 4,
 "nbformat_minor": 2
}
